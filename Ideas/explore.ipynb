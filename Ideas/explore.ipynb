{
 "cells": [
  {
   "cell_type": "code",
   "execution_count": 54,
   "metadata": {},
   "outputs": [],
   "source": [
    "# example of interesting things to make\n",
    "# input name and generate things\n",
    "# input image and get main color vs dominant color\n"
   ]
  },
  {
   "attachments": {},
   "cell_type": "markdown",
   "metadata": {},
   "source": [
    "### Ideas from previous projects\n",
    "\n",
    "- get rhyming words\n",
    "- get dominant and average color from images\n",
    "- games\n",
    "  - typing\n",
    "  - math test\n",
    "  - "
   ]
  },
  {
   "cell_type": "code",
   "execution_count": 55,
   "metadata": {},
   "outputs": [],
   "source": [
    "import random\n",
    "\n",
    "def number_guesser(guess, answer, min_bound, max_bound):\n",
    "    if guess == answer:\n",
    "        guess = True\n",
    "    elif guess < answer:\n",
    "        min_bound = guess\n",
    "    elif guess > answer:\n",
    "        max_bound = guess\n",
    "    return guess, answer, min_bound, max_bound\n"
   ]
  },
  {
   "cell_type": "code",
   "execution_count": 56,
   "metadata": {},
   "outputs": [
    {
     "name": "stdout",
     "output_type": "stream",
     "text": [
      "correct in 6 tries\n"
     ]
    }
   ],
   "source": [
    "playing = True\n",
    "guesses = 0\n",
    "correct_a = random.randint(0,100)\n",
    "mino, maxo = 0, 100\n",
    "\n",
    "while playing:\n",
    "    current_guess = int(input(f'guess between: {mino} and {maxo}'))\n",
    "    current_guess, correct_a, mino, maxo = number_guesser(current_guess, correct_a, mino, maxo)\n",
    "    if current_guess == True:\n",
    "        print(f'correct in {guesses} tries')\n",
    "        playing = False\n",
    "    else:\n",
    "        guesses+=1\n",
    "\n"
   ]
  },
  {
   "cell_type": "code",
   "execution_count": 57,
   "metadata": {},
   "outputs": [],
   "source": [
    "# bot guesser\n",
    "\n",
    "def game():\n",
    "\n",
    "    playing = True\n",
    "    guesses = 1\n",
    "    correct_a = random.randint(0,99)\n",
    "    mino, maxo = 0, 100\n",
    "\n",
    "    while playing:\n",
    "        current_guess = int((maxo+mino)/2)\n",
    "        current_guess, correct_a, mino, maxo = number_guesser(current_guess, correct_a, mino, maxo)\n",
    "        if current_guess == True:\n",
    "            # print(f'correct in {guesses} tries')\n",
    "            playing = False\n",
    "        else:\n",
    "            guesses+=1\n",
    "        if guesses > 10:\n",
    "            print(current_guess, correct_a, mino, maxo)\n",
    "    \n",
    "    return guesses\n"
   ]
  },
  {
   "cell_type": "code",
   "execution_count": 58,
   "metadata": {},
   "outputs": [],
   "source": [
    "import pandas as pd\n",
    "\n",
    "guess_c = [game() for g in range(1000)]\n"
   ]
  },
  {
   "cell_type": "code",
   "execution_count": 59,
   "metadata": {},
   "outputs": [],
   "source": [
    "# plot results of average number of guesses\n",
    "df = pd.DataFrame({'guesses': guess_c})\n"
   ]
  },
  {
   "cell_type": "code",
   "execution_count": 60,
   "metadata": {},
   "outputs": [
    {
     "data": {
      "image/png": "[encoded data removed]",
      "text/plain": [
       "<Figure size 640x480 with 1 Axes>"
      ]
     },
     "metadata": {},
     "output_type": "display_data"
    }
   ],
   "source": [
    "# creating plot for this\n",
    "import matplotlib.pyplot as plt\n",
    "\n",
    "fig, ax = plt.subplots()\n",
    "counts_g = df['guesses'].value_counts()\n",
    "ax.bar(counts_g.index, counts_g.values)\n",
    "ax.tick_params(rotation=45)\n",
    "plt.show()\n",
    "\n"
   ]
  }
 ],
 "metadata": {
  "kernelspec": {
   "display_name": ".venv",
   "language": "python",
   "name": "python3"
  },
  "language_info": {
   "codemirror_mode": {
    "name": "ipython",
    "version": 3
   },
   "file_extension": ".py",
   "mimetype": "text/x-python",
   "name": "python",
   "nbconvert_exporter": "python",
   "pygments_lexer": "ipython3",
   "version": "3.10.7"
  },
  "orig_nbformat": 4
 },
 "nbformat": 4,
 "nbformat_minor": 2
}
