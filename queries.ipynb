{
 "cells": [
  {
   "cell_type": "code",
   "execution_count": 1,
   "metadata": {},
   "outputs": [],
   "source": [
    "import pandas as pd\n",
    "df_eq = pd.read_csv('Nice/DF/EQUATIONS.csv', delimiter='|')\n",
    "df_eq_vars = pd.read_csv('Nice/DF/EQ_VARS.csv', delimiter='|')\n",
    "df_dimensions = pd.read_csv('Nice/DF/DERIVED_DIMENSIONS.csv', delimiter='|')"
   ]
  },
  {
   "cell_type": "code",
   "execution_count": 2,
   "metadata": {},
   "outputs": [],
   "source": [
    "# get equation names in category...\n",
    "eq_names = df_eq.sort_values(by=['Name'])\n",
    "eqns = df_eq['Name'].sort_values()\n",
    "\n",
    "eqncs = df_eq[df_eq['EQ_CAT']=='Dynamics'].sort_values(by=['Name'])"
   ]
  },
  {
   "cell_type": "code",
   "execution_count": 8,
   "metadata": {},
   "outputs": [],
   "source": [
    "# getting all equations found in dimension\n",
    "eq_ids = df_eq_vars[df_eq_vars['D_Name'] == 'Acceleration']['EQ_id'].unique()\n",
    "eqs = df_eq[df_eq['EQ_id'].isin(eq_ids)].sort_values(by='Name')\n"
   ]
  },
  {
   "cell_type": "code",
   "execution_count": 3,
   "metadata": {},
   "outputs": [],
   "source": [
    "# AA\n",
    "aa = df_eq[df_eq['Name']=='Angular Acceleration']\n",
    "aa_vars = df_eq_vars[df_eq_vars['EQ_id']==int(aa['EQ_id'])]"
   ]
  }
 ],
 "metadata": {
  "kernelspec": {
   "display_name": ".venv",
   "language": "python",
   "name": "python3"
  },
  "language_info": {
   "codemirror_mode": {
    "name": "ipython",
    "version": 3
   },
   "file_extension": ".py",
   "mimetype": "text/x-python",
   "name": "python",
   "nbconvert_exporter": "python",
   "pygments_lexer": "ipython3",
   "version": "3.10.7"
  },
  "orig_nbformat": 4
 },
 "nbformat": 4,
 "nbformat_minor": 2
}
